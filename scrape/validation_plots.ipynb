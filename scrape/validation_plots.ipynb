{
 "cells": [
  {
   "cell_type": "code",
   "execution_count": null,
   "id": "a8650086",
   "metadata": {},
   "outputs": [],
   "source": [
    "import json\n",
    "import matplotlib.pyplot as plt\n",
    "import seaborn as sns\n",
    "import pandas as pd\n",
    "from random import random\n",
    "import numpy as np"
   ]
  },
  {
   "cell_type": "code",
   "execution_count": null,
   "id": "d21c5a1d",
   "metadata": {},
   "outputs": [],
   "source": [
    "with open('../transit-inequality/080000/hex_1746.json') as f:\n",
    "    own_times = json.load(f)\n",
    "    \n",
    "with open('./time.json') as f:\n",
    "    hsl_times = json.load(f)\n",
    "    \n",
    "own = []\n",
    "hsl = []\n",
    "    \n",
    "for i in range(len(own_times)):\n",
    "    if own_times['hex_' + str(i)] > 0 and hsl_times['hex_' + str(i)] > 0:\n",
    "        own.append(own_times['hex_' + str(i)])\n",
    "        hsl.append(hsl_times['hex_' + str(i)])\n",
    "        \n",
    "df = pd.DataFrame(columns=['own', 'hsl'], index=list(range(len(own))))\n",
    "df['own'] = own\n",
    "df['hsl'] = hsl\n",
    "\n",
    "df = df[(df['own'] < 8000) & (df['hsl'] < 8000) & (df['hsl'] > 0)]\n",
    "\n",
    "df['diff'] = (df['hsl'] - df['own'])/df['hsl']"
   ]
  },
  {
   "cell_type": "code",
   "execution_count": null,
   "id": "b489a637",
   "metadata": {},
   "outputs": [],
   "source": [
    "df"
   ]
  },
  {
   "cell_type": "code",
   "execution_count": null,
   "id": "c477493c",
   "metadata": {},
   "outputs": [],
   "source": [
    "plt.figure(figsize=(8,8))\n",
    "plt.scatter(x=df['hsl'], y=df['own'], marker='x', alpha=0.5, c=np.abs(df['diff']), cmap='jet')\n",
    "plt.xlabel('HSL routing api times in seconds')\n",
    "plt.ylabel('Self calculated times in seconds')\n",
    "#plt.title('Comparrison of self calculated time and official routing times')\n",
    "#plt.plot([9, 9], [0.9249, 1.0749], c='orange', label='median')\n",
    "#plt.plot([np.mean(df['hsl'] - df['own']), np.mean(df['hsl'] - df['own'])], [0.925, 1.075], c='steelblue', label='mean')\n",
    "plt.savefig('./validation_2.pdf', bbox_inches='tight')"
   ]
  },
  {
   "cell_type": "code",
   "execution_count": null,
   "id": "5296ec3b",
   "metadata": {},
   "outputs": [],
   "source": [
    "plt.figure(figsize=(12, 4))\n",
    "sns.violinplot(df['hsl']-df['own'], orient='h')\n",
    "plt.title('Comparrison of self calculated time and official routing times')\n",
    "plt.xlim([-1500, 1500])\n",
    "plt.xlabel('HSL routing times - self calculated times in seconds')\n",
    "plt.savefig('./validation.pdf', bbox_inches='tight')"
   ]
  },
  {
   "cell_type": "code",
   "execution_count": null,
   "id": "fee24487",
   "metadata": {},
   "outputs": [],
   "source": [
    "np.mean(df['hsl'] - df['own'])"
   ]
  },
  {
   "cell_type": "code",
   "execution_count": null,
   "id": "1e91508d",
   "metadata": {},
   "outputs": [],
   "source": [
    "b['medians'][0].get_data()"
   ]
  }
 ],
 "metadata": {
  "kernelspec": {
   "display_name": "Python 3 (ipykernel)",
   "language": "python",
   "name": "python3"
  },
  "language_info": {
   "codemirror_mode": {
    "name": "ipython",
    "version": 3
   },
   "file_extension": ".py",
   "mimetype": "text/x-python",
   "name": "python",
   "nbconvert_exporter": "python",
   "pygments_lexer": "ipython3",
   "version": "3.9.13"
  }
 },
 "nbformat": 4,
 "nbformat_minor": 5
}
