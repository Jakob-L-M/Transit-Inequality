{
 "cells": [
  {
   "cell_type": "code",
   "execution_count": null,
   "id": "ef4e35f4",
   "metadata": {},
   "outputs": [],
   "source": [
    "import pandas as pd\n",
    "import matplotlib.pyplot as plt\n",
    "from tqdm import tqdm\n",
    "import json"
   ]
  },
  {
   "cell_type": "code",
   "execution_count": null,
   "id": "99633b07",
   "metadata": {},
   "outputs": [],
   "source": [
    "stops = pd.read_csv('stops2.txt')\n",
    "stops = stops.iloc[:, [0,2,4,5,6]]\n",
    "stops = stops[(stops['zone_id'] == 'A') | (stops['zone_id'] == 'B') | (stops['zone_id'] == 'C')]\n",
    "stops = stops.iloc[:, 0:4]\n",
    "\n",
    "stops = stops.rename(columns={'stop_id':'id', 'stop_name': 'name', 'stop_lat': 'lat', 'stop_lon': 'lon'})\n",
    "stops"
   ]
  },
  {
   "cell_type": "code",
   "execution_count": null,
   "id": "7377d805",
   "metadata": {},
   "outputs": [],
   "source": [
    "stops = stops.set_index('id')\n",
    "stops.to_json('processed_stops.json', orient='index')\n",
    "stops"
   ]
  },
  {
   "cell_type": "code",
   "execution_count": null,
   "id": "3188f806",
   "metadata": {},
   "outputs": [],
   "source": [
    "stop_times = pd.read_csv('stop_times.txt')\n",
    "\n",
    "# drop everything but tuesday (02/11/2022) times, or any specific day\n",
    "stop_times = stop_times[stop_times['trip_id'].str.contains('20221102_Ti')]\n",
    "\n",
    "# make sure its sorted properly\n",
    "stop_times = stop_times.sort_values(by=['trip_id', 'stop_sequence'], ascending=[True, True])\n",
    "\n",
    "stop_times"
   ]
  },
  {
   "cell_type": "code",
   "execution_count": null,
   "id": "d37b8458",
   "metadata": {},
   "outputs": [],
   "source": [
    "def parse_time(time):\n",
    "    return int(time[0:2])*3600 + int(time[3:5])*60 + int(time[6:8])\n",
    "\n",
    "# save trips in dic to speed up access times\n",
    "# dont use pandas slicing -> way too slow\n",
    "trips = {}\n",
    "\n",
    "current_trip = []\n",
    "current_id = stop_times.iloc[0,0]\n",
    "\n",
    "for trip in tqdm(stop_times.iterrows(), total=len(stop_times)):\n",
    "    \n",
    "    data = trip[1]\n",
    "    \n",
    "    if (data['trip_id'] == current_id):\n",
    "        current_trip.append([parse_time(data['arrival_time']), parse_time(data['departure_time']), data['stop_id']])\n",
    "    else:\n",
    "        trips[current_id] = current_trip\n",
    "        current_id = data['trip_id']\n",
    "        current_trip = [[parse_time(data['arrival_time']), parse_time(data['departure_time']), data['stop_id']]]"
   ]
  },
  {
   "cell_type": "code",
   "execution_count": null,
   "id": "6df460cd",
   "metadata": {},
   "outputs": [],
   "source": [
    "stop_data = {}\n",
    "\n",
    "for s in tqdm(stop_times.iterrows(), total=len(stop_times)):\n",
    "    data = s[1]\n",
    "    stop_id = data['stop_id']\n",
    "    stop_sequence = data['stop_sequence']\n",
    "    trip_id = data['trip_id']\n",
    "    \n",
    "    if stop_id not in stop_data:\n",
    "        stop_data[stop_id] = []\n",
    "    \n",
    "    stop_data[stop_id].append([parse_time(data['departure_time']), trip_id, stop_sequence])\n",
    "\n",
    "for s in stop_data:\n",
    "    d = stop_data[s]\n",
    "    stop_data[s] = sorted(d, key=lambda x: x[0])\n",
    "\n",
    "# pretty confident its correct since it matches the service statistics from hsl"
   ]
  },
  {
   "cell_type": "code",
   "execution_count": null,
   "id": "cecd2ab5",
   "metadata": {},
   "outputs": [],
   "source": [
    "with open('processed_stop_data.json', 'x') as f:\n",
    "    json.dump(stop_data, f)\n",
    "\n",
    "with open('processed_trips.json', 'x') as f:\n",
    "    json.dump(trips, f)   "
   ]
  }
 ],
 "metadata": {
  "kernelspec": {
   "display_name": "Python 3 (ipykernel)",
   "language": "python",
   "name": "python3"
  },
  "language_info": {
   "codemirror_mode": {
    "name": "ipython",
    "version": 3
   },
   "file_extension": ".py",
   "mimetype": "text/x-python",
   "name": "python",
   "nbconvert_exporter": "python",
   "pygments_lexer": "ipython3",
   "version": "3.9.13"
  }
 },
 "nbformat": 4,
 "nbformat_minor": 5
}
