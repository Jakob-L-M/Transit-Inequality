{
 "cells": [
  {
   "cell_type": "code",
   "execution_count": null,
   "id": "bd6e6d64",
   "metadata": {},
   "outputs": [],
   "source": [
    "import pandas as pd\n",
    "import json\n",
    "\n",
    "from tqdm import tqdm\n",
    "from math import sin, cos, sqrt, atan2, radians\n",
    "\n",
    "from queue import PriorityQueue as PQueue"
   ]
  },
  {
   "cell_type": "code",
   "execution_count": null,
   "id": "137fe7fa",
   "metadata": {},
   "outputs": [],
   "source": [
    "def parse_time(time):\n",
    "    return int(time[0:2])*3600 + int(time[3:5])*60 + int(time[6:8])\n",
    "\n",
    "def calc_time(stop1, stop2):\n",
    "    # assume 1 m/s since we disregard roads so slower walking speed is feasable\n",
    "    # approximate radius of earth in km\n",
    "    R = 6373.0\n",
    "\n",
    "    lat1 = radians(stop1['lat'])\n",
    "    lon1 = radians(stop1['lon'])\n",
    "    lat2 = radians(stop2['lat'])\n",
    "    lon2 = radians(stop2['lon'])\n",
    "\n",
    "    dlon = lon2 - lon1\n",
    "    dlat = lat2 - lat1\n",
    "\n",
    "    a = sin(dlat / 2)**2 + cos(lat1) * cos(lat2) * sin(dlon / 2)**2\n",
    "    c = 2 * atan2(sqrt(a), sqrt(1 - a))\n",
    "\n",
    "    return int(R * c * 1000)"
   ]
  },
  {
   "cell_type": "code",
   "execution_count": null,
   "id": "711b3ab6",
   "metadata": {},
   "outputs": [],
   "source": [
    "FOLDER = 'hsl' # name of folder"
   ]
  },
  {
   "cell_type": "code",
   "execution_count": null,
   "id": "3ad867c4",
   "metadata": {},
   "outputs": [],
   "source": [
    "# id : {name, lat, lon}\n",
    "with open(FOLDER + '/processed_stops.json', 'r') as f:\n",
    "    stops = json.load(f)\n",
    "\n",
    "# trip_id : [[arr_time1, dep_time1, stop_id1], ...]\n",
    "with open(FOLDER + '/processed_trips.json', 'r') as f:\n",
    "    trips = json.load(f)\n",
    "\n",
    "# stop_id : [[time1, trip_id1, stop_pos1], ...]\n",
    "with open(FOLDER + '/processed_stop_data.json', 'r') as f:\n",
    "    stop_data = json.load(f)"
   ]
  },
  {
   "cell_type": "code",
   "execution_count": null,
   "id": "91bbce8a",
   "metadata": {},
   "outputs": [],
   "source": [
    "print('stops before:', len(stops))\n",
    "to_delete = []\n",
    "for s in stops:\n",
    "    if s not in stop_data:\n",
    "        to_delete.append(s)\n",
    "\n",
    "for s in to_delete:\n",
    "    del stops[s]\n",
    "print('stops after:', len(stops))"
   ]
  },
  {
   "cell_type": "code",
   "execution_count": null,
   "id": "27e3fd7a",
   "metadata": {},
   "outputs": [],
   "source": [
    "distances = {}\n",
    "\n",
    "for stop1 in tqdm(stops):\n",
    "    distances[stop1] = []\n",
    "    for stop2 in stops:\n",
    "        distances[stop1].append((calc_time(stops[stop1], stops[stop2]), stop2))\n",
    "    distances[stop1] = sorted(distances[stop1], key=lambda x: x[0])"
   ]
  },
  {
   "cell_type": "code",
   "execution_count": null,
   "id": "fb6c3d49",
   "metadata": {},
   "outputs": [],
   "source": [
    "# search for a stop\n",
    "term = 'Aalto'\n",
    "for s in stops:\n",
    "    if term in stops[s]['name']:\n",
    "        print(s, stops[s])"
   ]
  },
  {
   "cell_type": "code",
   "execution_count": null,
   "id": "00f3e7d7",
   "metadata": {},
   "outputs": [],
   "source": [
    "origin = '2222603' # Aalto metro station\n",
    "\n",
    "pbar = tqdm(total=len(stops))\n",
    "\n",
    "dist_from_origin = {}\n",
    "seen = set()\n",
    "starting_time = parse_time('09:00:00')\n",
    "\n",
    "q = PQueue()\n",
    "q.put((starting_time, origin))\n",
    "\n",
    "while not q.empty():\n",
    "    time, cur = q.get()\n",
    "    \n",
    "    cur = str(cur)\n",
    "    \n",
    "    if cur not in seen and cur in stops:\n",
    "       \n",
    "        seen.add(cur)\n",
    "        pbar.update(1)\n",
    "        pbar.set_description(\"Queue size %u\" % len(q))\n",
    "        dist_from_origin[cur] = time - starting_time\n",
    "    \n",
    "        # add all unseen stops in 10min walking distance\n",
    "        for walk_time, n_id in distances[cur][1:]:\n",
    "            if walk_time <= 600 and n_id not in seen:\n",
    "                q.put((time + walk_time, str(n_id)))\n",
    "            if walk_time > 600:\n",
    "                break\n",
    "\n",
    "        # add all trips leaving station\n",
    "\n",
    "        # could use bin_search here\n",
    "        for dep_time, trip_id, pos in stop_data[cur]:\n",
    "            if dep_time < time:\n",
    "                continue\n",
    "\n",
    "            # get all further stops on the trip and add them to the queue\n",
    "            for arr_time, dep_time, n_id in trips[trip_id][pos-1:]:\n",
    "                q.put((arr_time, str(n_id)))\n",
    "            \n",
    "pbar.close()"
   ]
  },
  {
   "cell_type": "code",
   "execution_count": null,
   "id": "d65e947f",
   "metadata": {},
   "outputs": [],
   "source": [
    "for s in dist_from_origin:\n",
    "    print(stops[s]['name'], dist_from_origin[s]//3600, (dist_from_origin[s]%3600)//60, dist_from_origin[s]%60)"
   ]
  }
 ],
 "metadata": {
  "kernelspec": {
   "display_name": "Python 3 (ipykernel)",
   "language": "python",
   "name": "python3"
  },
  "language_info": {
   "codemirror_mode": {
    "name": "ipython",
    "version": 3
   },
   "file_extension": ".py",
   "mimetype": "text/x-python",
   "name": "python",
   "nbconvert_exporter": "python",
   "pygments_lexer": "ipython3",
   "version": "3.9.13"
  }
 },
 "nbformat": 4,
 "nbformat_minor": 5
}
