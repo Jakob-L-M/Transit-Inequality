{
 "cells": [
  {
   "cell_type": "markdown",
   "id": "3940c52a",
   "metadata": {},
   "source": [
    "### Imports"
   ]
  },
  {
   "cell_type": "code",
   "execution_count": null,
   "id": "bd6e6d64",
   "metadata": {},
   "outputs": [],
   "source": [
    "# Needed to read/export in files\n",
    "import json\n",
    "import xml.etree.ElementTree as ET\n",
    "import pandas as pd\n",
    "\n",
    "# Used for calculations\n",
    "from tqdm.auto import tqdm\n",
    "from math import sin, cos, sqrt, atan2, radians\n",
    "import plotly.figure_factory as ff\n",
    "import plotly.express as px\n",
    "from queue import PriorityQueue as PQueue\n",
    "import numpy as np\n",
    "\n",
    "# Sanity check plots\n",
    "import matplotlib.pyplot as plt\n",
    "from matplotlib import colormaps as cmaps"
   ]
  },
  {
   "cell_type": "code",
   "execution_count": null,
   "id": "0d7a4ab3",
   "metadata": {},
   "outputs": [],
   "source": [
    "with open('../../token.tk') as f:\n",
    "    px.set_mapbox_access_token(f.readline())\n",
    "    \n",
    "px.set_mapbox_access_token('pk.eyJ1IjoibWliYXNlciIsImEiOiJjamphdWZxeTgzMTBuM3BvaGdvdGhidDlzIn0.W6MiurHvSwBs0LvTfEtdrQ')"
   ]
  },
  {
   "cell_type": "markdown",
   "id": "c9c441e0",
   "metadata": {},
   "source": [
    "### Utility methods"
   ]
  },
  {
   "cell_type": "code",
   "execution_count": null,
   "id": "137fe7fa",
   "metadata": {},
   "outputs": [],
   "source": [
    "def parse_time(time):\n",
    "    return int(time[0:2])*3600 + int(time[3:5])*60 + int(time[6:8])\n",
    "\n",
    "def calc_time(stop1, stop2):\n",
    "    # assume 1 m/s since we disregard roads so slower walking speed is feasable\n",
    "    # approximate radius of earth in km\n",
    "    R = 6373.0\n",
    "\n",
    "    lat1 = radians(stop1['lat'])\n",
    "    lon1 = radians(stop1['lon'])\n",
    "    lat2 = radians(stop2['lat'])\n",
    "    lon2 = radians(stop2['lon'])\n",
    "\n",
    "    dlon = lon2 - lon1\n",
    "    dlat = lat2 - lat1\n",
    "\n",
    "    a = sin(dlat / 2)**2 + cos(lat1) * cos(lat2) * sin(dlon / 2)**2\n",
    "    c = 2 * atan2(sqrt(a), sqrt(1 - a))\n",
    "\n",
    "    return int(R * c * 1000)"
   ]
  },
  {
   "cell_type": "code",
   "execution_count": null,
   "id": "711b3ab6",
   "metadata": {},
   "outputs": [],
   "source": [
    "# name of folder\n",
    "FOLDER = 'hsl'"
   ]
  },
  {
   "cell_type": "code",
   "execution_count": null,
   "id": "3ad867c4",
   "metadata": {},
   "outputs": [],
   "source": [
    "# The following files are expected to be present and need to be extracted from time tables or similar sources first.\n",
    "\n",
    "# id : {name, lat, lon}\n",
    "with open(FOLDER + '/stops.json', 'r') as f:\n",
    "    stops = json.load(f)\n",
    "\n",
    "# trip_id : [[arr_time1, dep_time1, stop_id1], ...]\n",
    "with open(FOLDER + '/trips.json', 'r') as f:\n",
    "    trips = json.load(f)\n",
    "\n",
    "# stop_id : [[time1, trip_id1, stop_pos1], ...]\n",
    "with open(FOLDER + '/stop_data.json', 'r') as f:\n",
    "    stop_data = json.load(f)\n",
    "    \n",
    "# xml of OSM data used for area calculation\n",
    "tree = ET.parse(FOLDER + '/interpreter')"
   ]
  },
  {
   "cell_type": "markdown",
   "id": "7fd36801",
   "metadata": {},
   "source": [
    "### Calculation of Hexbin and extraction of coordinates"
   ]
  },
  {
   "cell_type": "code",
   "execution_count": null,
   "id": "9707a8fe",
   "metadata": {},
   "outputs": [],
   "source": [
    "root = tree.getroot()\n",
    "\n",
    "osm_nodes = [] \n",
    "\n",
    "for child in root:\n",
    "    if child.tag != 'node':\n",
    "        continue\n",
    "        \n",
    "    osm_nodes.append({'id': child.attrib['id'],\n",
    "                      'lat': float(child.attrib['lat']),\n",
    "                      'lon': float(child.attrib['lon'])})"
   ]
  },
  {
   "cell_type": "code",
   "execution_count": null,
   "id": "b9af92fd",
   "metadata": {},
   "outputs": [],
   "source": [
    "# Create a DataFrame\n",
    "osm_df = pd.DataFrame(osm_nodes)\n",
    "osm_df = osm_df.set_index('id')\n",
    "osm_df"
   ]
  },
  {
   "cell_type": "code",
   "execution_count": null,
   "id": "6aaae3dc",
   "metadata": {},
   "outputs": [],
   "source": [
    "osm_df = osm_df[osm_df['lat'] > 24]\n",
    "osm_df = osm_df[osm_df['lon'] > 60]"
   ]
  },
  {
   "cell_type": "code",
   "execution_count": null,
   "id": "df07c6c0",
   "metadata": {},
   "outputs": [],
   "source": [
    "fig = ff.create_hexbin_mapbox(\n",
    "    data_frame=osm_df, lat=\"lat\", lon=\"lon\",\n",
    "    nx_hexagon=120, opacity=0.5, labels={\"color\": \"Point Count\"},\n",
    "    min_count=3,\n",
    ")\n",
    "\n",
    "# See if everything looks correct\n",
    "fig.show()\n",
    "\n",
    "'Number of Hexagons:', len(fig.data[0].geojson['features'])"
   ]
  },
  {
   "cell_type": "code",
   "execution_count": null,
   "id": "8aef9711",
   "metadata": {},
   "outputs": [],
   "source": [
    "hexagons = fig.data[0].geojson['features']\n",
    "for ind, feat in enumerate(hexagons):\n",
    "    \n",
    "    cords = feat['geometry']['coordinates'][0][:6]\n",
    "    \n",
    "    # flip for leaflet\n",
    "    feat['geometry']['coordinates'][0] = [[i[1], i[0]] for i in cords]\n",
    "    \n",
    "    feat['id'] = 'hex_' + str(ind)\n",
    "    feat['center'] = {'lon': cords[0][0]/2 + cords[3][0]/2, 'lat':cords[0][1]/2 + cords[3][1]/2}\n",
    "    \n",
    "with open(FOLDER + '/hexagons.json', 'w') as f:\n",
    "    json.dump(hexagons, f)"
   ]
  },
  {
   "cell_type": "code",
   "execution_count": null,
   "id": "91bbce8a",
   "metadata": {},
   "outputs": [],
   "source": [
    "# clean stops that dont have data\n",
    "print('stops before:', len(stops))\n",
    "to_delete = []\n",
    "for s in stops:\n",
    "    if s not in stop_data:\n",
    "        to_delete.append(s)\n",
    "    else:\n",
    "        stops[s]['type'] = 'stop'\n",
    "        \n",
    "\n",
    "for s in to_delete:\n",
    "    del stops[s]\n",
    "print('stops after:', len(stops))\n",
    "\n",
    "# save number of stops and hexagons\n",
    "NUM_STOPS = len(stops)"
   ]
  },
  {
   "cell_type": "code",
   "execution_count": null,
   "id": "795369dd",
   "metadata": {},
   "outputs": [],
   "source": [
    "# append hexagons to stops:\n",
    "for hexagon in hexagons:\n",
    "    stops[hexagon['id']] = {'name': hexagon['id'],\n",
    "                            'type': 'hexagon',\n",
    "                            'lat': hexagon['center']['lat'],\n",
    "                            'lon': hexagon['center']['lon']\n",
    "                           }\n",
    "    \n",
    "'Total points:', len(stops)"
   ]
  },
  {
   "cell_type": "code",
   "execution_count": null,
   "id": "27e3fd7a",
   "metadata": {},
   "outputs": [],
   "source": [
    "MAX_WALK_TIME = 900 # longest time to walk in seconds\n",
    "\n",
    "distances = {}\n",
    "seen = set()\n",
    "\n",
    "for s in stops:\n",
    "    distances[s] = []\n",
    "\n",
    "for stop1 in tqdm(stops):\n",
    "    for stop2 in stops:\n",
    "        if stop2 in seen:\n",
    "            continue\n",
    "        time = calc_time(stops[stop1], stops[stop2])\n",
    "        if time < MAX_WALK_TIME:\n",
    "            distances[stop1].append((time, stop2))\n",
    "            distances[stop2].append((time, stop1))\n",
    "    \n",
    "    distances[stop1] = sorted(distances[stop1], key=lambda x: x[0])\n",
    "    \n",
    "    seen.add(stop1)\n",
    "    \n",
    "    \n",
    "with open(FOLDER + '/distances.json', 'w') as f:\n",
    "    json.dump(distances, f)"
   ]
  },
  {
   "cell_type": "code",
   "execution_count": null,
   "id": "fb6c3d49",
   "metadata": {},
   "outputs": [],
   "source": [
    "# search for a stop\n",
    "term = 'Kannel'\n",
    "for s in stops:\n",
    "    if term in stops[s]['name']:\n",
    "        print(s, stops[s])"
   ]
  },
  {
   "cell_type": "code",
   "execution_count": null,
   "id": "00f3e7d7",
   "metadata": {},
   "outputs": [],
   "source": [
    "origin = '1331140' # Aalto metro station\n",
    "\n",
    "pbar = tqdm(total=len(stops))\n",
    "\n",
    "best_q_position = {}\n",
    "\n",
    "for s in stops:\n",
    "    best_q_position[s] = 1_000_000_000\n",
    "\n",
    "dist_from_origin = {}\n",
    "seen = set()\n",
    "starting_time = parse_time('08:00:00')\n",
    "\n",
    "q = PQueue()\n",
    "q.put((starting_time, origin))\n",
    "\n",
    "while not q.empty():\n",
    "    time, cur = q.get()\n",
    "    \n",
    "    cur = str(cur)\n",
    "    \n",
    "    if cur not in seen and cur in stops:\n",
    "       \n",
    "        seen.add(cur)\n",
    "        pbar.update(1)\n",
    "        #pbar.set_description(\"Queue size %u\" % q.qsize())\n",
    "        dist_from_origin[cur] = time - starting_time\n",
    "    \n",
    "        # add all unseen stops in walking distance\n",
    "        for walk_time, n_id in distances[cur][1:]:\n",
    "            temp = str(n_id)\n",
    "            if temp not in seen and (time + walk_time) < best_q_position[temp]:\n",
    "                q.put((time + walk_time, temp))\n",
    "                best_q_position[temp] = time + walk_time\n",
    "\n",
    "        # for a stop: add all trips leaving station\n",
    "        if stops[cur]['type'] == 'stop':\n",
    "            for dep_time, trip_id, pos in stop_data[cur]:\n",
    "                if dep_time < time:\n",
    "                    continue\n",
    "\n",
    "                # get all further stops on the trip and add them to the queue\n",
    "                for arr_time, dep_time, n_id in trips[trip_id][pos-1:]:\n",
    "                    temp = str(n_id)\n",
    "                    if temp in stops:\n",
    "                        if temp not in seen and arr_time < best_q_position[temp]:\n",
    "                            q.put((arr_time, temp))\n",
    "                            best_q_position[temp] = arr_time\n",
    "            \n",
    "pbar.close()"
   ]
  },
  {
   "cell_type": "code",
   "execution_count": null,
   "id": "12393aef",
   "metadata": {},
   "outputs": [],
   "source": [
    "initial = {}\n",
    "\n",
    "for stop in dist_from_origin:\n",
    "    if stops[stop]['type'] == 'hexagon':\n",
    "        initial[stop] = dist_from_origin[stop]\n",
    "        \n",
    "    \n",
    "        \n",
    "with open(FOLDER + '/initial.json', 'w') as f:\n",
    "    json.dump(initial, f)"
   ]
  },
  {
   "cell_type": "code",
   "execution_count": null,
   "id": "a723880e",
   "metadata": {},
   "outputs": [],
   "source": [
    "# Check if times look correct\n",
    "x = []\n",
    "y = []\n",
    "c = []\n",
    "\n",
    "plt.figure(figsize=(12,12))\n",
    "\n",
    "for s in dist_from_origin:\n",
    "    if (dist_from_origin[s] < 7200) and stops[s]['type'] == 'hexagon':\n",
    "        c.append(dist_from_origin[s])\n",
    "        x.append(stops[s]['lat'])\n",
    "        y.append(stops[s]['lon'])\n",
    "    \n",
    "plt.scatter(y, x, c=c)"
   ]
  },
  {
   "cell_type": "code",
   "execution_count": null,
   "id": "65505776",
   "metadata": {},
   "outputs": [],
   "source": [
    "# colormap export\n",
    "\n",
    "x = np.linspace(0, 1, 30)\n",
    "\n",
    "colors = cmaps['turbo'](x)[:, :3]\n",
    "colors = np.floor(colors*255)\n",
    "colors = list([[int(j) for j in i] for i in colors])\n",
    "\n",
    "time_map = {}\n",
    "c = 0\n",
    "for col in colors:\n",
    "    time_map[c] = col\n",
    "    c += 300\n",
    "    \n",
    "with open(FOLDER + '/time_map' + '.json', 'w') as f:\n",
    "    json.dump(time_map, f)\n",
    "    \n",
    "time_map"
   ]
  }
 ],
 "metadata": {
  "kernelspec": {
   "display_name": "Python 3 (ipykernel)",
   "language": "python",
   "name": "python3"
  },
  "language_info": {
   "codemirror_mode": {
    "name": "ipython",
    "version": 3
   },
   "file_extension": ".py",
   "mimetype": "text/x-python",
   "name": "python",
   "nbconvert_exporter": "python",
   "pygments_lexer": "ipython3",
   "version": "3.9.13"
  }
 },
 "nbformat": 4,
 "nbformat_minor": 5
}
